{
 "cells": [
  {
   "cell_type": "markdown",
   "metadata": {},
   "source": [
    "# Week 1: Find Clusters of Infected People"
   ]
  },
  {
   "cell_type": "markdown",
   "metadata": {},
   "source": [
    "<span style=\"color:red\">\n",
    "**URGENT WARNING**\n",
    "\n",
    "We have been receiving reports from health facilities that a new, fast-spreading virus has been discovered in the population. To prepare our response, we need to understand the geospatial distribution of those who have been infected. Find out whether there are identifiable clusters of infected individuals and where they are.    \n",
    "</span>\n",
    "\n",
    "Your goal for this notebook will be to estimate the location of dense geographic clusters of infected people using incoming data from week 1 of the simulated epidemic."
   ]
  },
  {
   "cell_type": "markdown",
   "metadata": {},
   "source": [
    "## Imports"
   ]
  },
  {
   "cell_type": "code",
   "execution_count": 2,
   "metadata": {},
   "outputs": [],
   "source": [
    "import cudf\n",
    "import cuml\n",
    "\n",
    "import cupy as cp"
   ]
  },
  {
   "cell_type": "markdown",
   "metadata": {},
   "source": [
    "## Load Data"
   ]
  },
  {
   "cell_type": "markdown",
   "metadata": {},
   "source": [
    "Begin by loading the data you've received about week 1 of the outbreak into a cuDF data frame. The data is located at `'./data/week1.csv'`. For this notebook you will only need the `'lat'`, `'long'`, and `'infected'` columns. Either drop the columns after loading, or use the `cudf.read_csv` named argument `usecols` to provide a list of only the columns you need."
   ]
  },
  {
   "cell_type": "code",
   "execution_count": 3,
   "metadata": {},
   "outputs": [],
   "source": [
    "gdf = cudf.read_csv('./data/week1.csv',usecols=['lat','long','infected'])"
   ]
  },
  {
   "cell_type": "markdown",
   "metadata": {},
   "source": [
    "## Make Data Frame of the Infected"
   ]
  },
  {
   "cell_type": "markdown",
   "metadata": {},
   "source": [
    "Make a new cuDF data frame `infected_df` that contains only the infected members of the population."
   ]
  },
  {
   "cell_type": "code",
   "execution_count": 4,
   "metadata": {},
   "outputs": [],
   "source": [
    "infected_df = gdf.loc[gdf['infected']==1]"
   ]
  },
  {
   "cell_type": "markdown",
   "metadata": {},
   "source": [
    "## Make Grid Coordinates for Infected Locations"
   ]
  },
  {
   "cell_type": "markdown",
   "metadata": {},
   "source": [
    "Provided for you in the next cell (which you can expand by clicking on the \"...\" and contract again after executing by clicking on the blue left border of the cell) is the lat/long to OSGB36 grid coordinates converter you used earlier in the workshop. Use this converter to create grid coordinate values stored in `northing` and `easting` columns of the `infected_df` you created in the last step."
   ]
  },
  {
   "cell_type": "code",
   "execution_count": 5,
   "metadata": {
    "tags": []
   },
   "outputs": [],
   "source": [
    "# https://www.ordnancesurvey.co.uk/docs/support/guide-coordinate-systems-great-britain.pdf\n",
    "\n",
    "def latlong2osgbgrid_cupy(lat, long, input_degrees=True):\n",
    "    '''\n",
    "    Converts latitude and longitude (ellipsoidal) coordinates into northing and easting (grid) coordinates, using a Transverse Mercator projection.\n",
    "    \n",
    "    Inputs:\n",
    "    lat: latitude coordinate (N)\n",
    "    long: longitude coordinate (E)\n",
    "    input_degrees: if True (default), interprets the coordinates as degrees; otherwise, interprets coordinates as radians\n",
    "    \n",
    "    Output:\n",
    "    (northing, easting)\n",
    "    '''\n",
    "    \n",
    "    if input_degrees:\n",
    "        lat = lat * cp.pi/180\n",
    "        long = long * cp.pi/180\n",
    "\n",
    "    a = 6377563.396\n",
    "    b = 6356256.909\n",
    "    e2 = (a**2 - b**2) / a**2\n",
    "\n",
    "    N0 = -100000 # northing of true origin\n",
    "    E0 = 400000 # easting of true origin\n",
    "    F0 = .9996012717 # scale factor on central meridian\n",
    "    phi0 = 49 * cp.pi / 180 # latitude of true origin\n",
    "    lambda0 = -2 * cp.pi / 180 # longitude of true origin and central meridian\n",
    "    \n",
    "    sinlat = cp.sin(lat)\n",
    "    coslat = cp.cos(lat)\n",
    "    tanlat = cp.tan(lat)\n",
    "    \n",
    "    latdiff = lat-phi0\n",
    "    longdiff = long-lambda0\n",
    "\n",
    "    n = (a-b) / (a+b)\n",
    "    nu = a * F0 * (1 - e2 * sinlat ** 2) ** -.5\n",
    "    rho = a * F0 * (1 - e2) * (1 - e2 * sinlat ** 2) ** -1.5\n",
    "    eta2 = nu / rho - 1\n",
    "    M = b * F0 * ((1 + n + 5/4 * (n**2 + n**3)) * latdiff - \n",
    "                  (3*(n+n**2) + 21/8 * n**3) * cp.sin(latdiff) * cp.cos(lat+phi0) +\n",
    "                  15/8 * (n**2 + n**3) * cp.sin(2*(latdiff)) * cp.cos(2*(lat+phi0)) - \n",
    "                  35/24 * n**3 * cp.sin(3*(latdiff)) * cp.cos(3*(lat+phi0)))\n",
    "    I = M + N0\n",
    "    II = nu/2 * sinlat * coslat\n",
    "    III = nu/24 * sinlat * coslat ** 3 * (5 - tanlat ** 2 + 9 * eta2)\n",
    "    IIIA = nu/720 * sinlat * coslat ** 5 * (61-58 * tanlat**2 + tanlat**4)\n",
    "    IV = nu * coslat\n",
    "    V = nu / 6 * coslat**3 * (nu/rho - cp.tan(lat)**2)\n",
    "    VI = nu / 120 * coslat ** 5 * (5 - 18 * tanlat**2 + tanlat**4 + 14 * eta2 - 58 * tanlat**2 * eta2)\n",
    "\n",
    "    northing = I + II * longdiff**2 + III * longdiff**4 + IIIA * longdiff**6\n",
    "    easting = E0 + IV * longdiff + V * longdiff**3 + VI * longdiff**5\n",
    "\n",
    "    return(northing, easting)"
   ]
  },
  {
   "cell_type": "code",
   "execution_count": 6,
   "metadata": {},
   "outputs": [
    {
     "data": {
      "text/html": [
       "<div>\n",
       "<style scoped>\n",
       "    .dataframe tbody tr th:only-of-type {\n",
       "        vertical-align: middle;\n",
       "    }\n",
       "\n",
       "    .dataframe tbody tr th {\n",
       "        vertical-align: top;\n",
       "    }\n",
       "\n",
       "    .dataframe thead th {\n",
       "        text-align: right;\n",
       "    }\n",
       "</style>\n",
       "<table border=\"1\" class=\"dataframe\">\n",
       "  <thead>\n",
       "    <tr style=\"text-align: right;\">\n",
       "      <th></th>\n",
       "      <th>lat</th>\n",
       "      <th>long</th>\n",
       "      <th>infected</th>\n",
       "      <th>northing</th>\n",
       "      <th>easting</th>\n",
       "    </tr>\n",
       "  </thead>\n",
       "  <tbody>\n",
       "    <tr>\n",
       "      <th>28928759</th>\n",
       "      <td>54.472766</td>\n",
       "      <td>-1.654932</td>\n",
       "      <td>True</td>\n",
       "      <td>508670.060234</td>\n",
       "      <td>422359.759523</td>\n",
       "    </tr>\n",
       "    <tr>\n",
       "      <th>28930512</th>\n",
       "      <td>54.529717</td>\n",
       "      <td>-1.667143</td>\n",
       "      <td>True</td>\n",
       "      <td>515002.666798</td>\n",
       "      <td>421538.547038</td>\n",
       "    </tr>\n",
       "    <tr>\n",
       "      <th>28930904</th>\n",
       "      <td>54.512986</td>\n",
       "      <td>-1.589866</td>\n",
       "      <td>True</td>\n",
       "      <td>513167.535850</td>\n",
       "      <td>426549.874086</td>\n",
       "    </tr>\n",
       "    <tr>\n",
       "      <th>28932226</th>\n",
       "      <td>54.522322</td>\n",
       "      <td>-1.380694</td>\n",
       "      <td>True</td>\n",
       "      <td>514305.280055</td>\n",
       "      <td>440081.234798</td>\n",
       "    </tr>\n",
       "    <tr>\n",
       "      <th>28933748</th>\n",
       "      <td>54.541660</td>\n",
       "      <td>-1.613490</td>\n",
       "      <td>True</td>\n",
       "      <td>516349.132042</td>\n",
       "      <td>425003.005560</td>\n",
       "    </tr>\n",
       "    <tr>\n",
       "      <th>...</th>\n",
       "      <td>...</td>\n",
       "      <td>...</td>\n",
       "      <td>...</td>\n",
       "      <td>...</td>\n",
       "      <td>...</td>\n",
       "    </tr>\n",
       "    <tr>\n",
       "      <th>57404109</th>\n",
       "      <td>52.428347</td>\n",
       "      <td>-3.322932</td>\n",
       "      <td>True</td>\n",
       "      <td>282016.338253</td>\n",
       "      <td>310060.098268</td>\n",
       "    </tr>\n",
       "    <tr>\n",
       "      <th>57406802</th>\n",
       "      <td>52.415895</td>\n",
       "      <td>-3.263942</td>\n",
       "      <td>True</td>\n",
       "      <td>280559.681381</td>\n",
       "      <td>314046.146547</td>\n",
       "    </tr>\n",
       "    <tr>\n",
       "      <th>57410428</th>\n",
       "      <td>52.539934</td>\n",
       "      <td>-3.617128</td>\n",
       "      <td>True</td>\n",
       "      <td>294832.815870</td>\n",
       "      <td>290338.202721</td>\n",
       "    </tr>\n",
       "    <tr>\n",
       "      <th>57411005</th>\n",
       "      <td>52.435490</td>\n",
       "      <td>-3.597263</td>\n",
       "      <td>True</td>\n",
       "      <td>283187.465568</td>\n",
       "      <td>291428.293249</td>\n",
       "    </tr>\n",
       "    <tr>\n",
       "      <th>57411919</th>\n",
       "      <td>52.700105</td>\n",
       "      <td>-3.375221</td>\n",
       "      <td>True</td>\n",
       "      <td>312306.356272</td>\n",
       "      <td>307081.485707</td>\n",
       "    </tr>\n",
       "  </tbody>\n",
       "</table>\n",
       "<p>18148 rows × 5 columns</p>\n",
       "</div>"
      ],
      "text/plain": [
       "                lat      long  infected       northing        easting\n",
       "28928759  54.472766 -1.654932      True  508670.060234  422359.759523\n",
       "28930512  54.529717 -1.667143      True  515002.666798  421538.547038\n",
       "28930904  54.512986 -1.589866      True  513167.535850  426549.874086\n",
       "28932226  54.522322 -1.380694      True  514305.280055  440081.234798\n",
       "28933748  54.541660 -1.613490      True  516349.132042  425003.005560\n",
       "...             ...       ...       ...            ...            ...\n",
       "57404109  52.428347 -3.322932      True  282016.338253  310060.098268\n",
       "57406802  52.415895 -3.263942      True  280559.681381  314046.146547\n",
       "57410428  52.539934 -3.617128      True  294832.815870  290338.202721\n",
       "57411005  52.435490 -3.597263      True  283187.465568  291428.293249\n",
       "57411919  52.700105 -3.375221      True  312306.356272  307081.485707\n",
       "\n",
       "[18148 rows x 5 columns]"
      ]
     },
     "execution_count": 6,
     "metadata": {},
     "output_type": "execute_result"
    }
   ],
   "source": [
    "\n",
    "northing, easting = latlong2osgbgrid_cupy(infected_df['lat'],infected_df['long'])\n",
    "infected_df['northing'] = northing\n",
    "infected_df['easting'] = easting\n",
    "infected_df"
   ]
  },
  {
   "cell_type": "markdown",
   "metadata": {},
   "source": [
    "## Find Clusters of Infected People"
   ]
  },
  {
   "cell_type": "markdown",
   "metadata": {},
   "source": [
    "Use DBSCAN to find clusters of at least 25 infected people where no member is more than 2000m from at least one other cluster member. Create a new column in `infected_df` which contains the cluster to which each infected person belongs."
   ]
  },
  {
   "cell_type": "code",
   "execution_count": 7,
   "metadata": {},
   "outputs": [],
   "source": [
    "dbscan = cuml.DBSCAN(eps=2000, min_samples=25)\n",
    "infected_df['cluster'] = dbscan.fit_predict(infected_df[['northing','easting']])"
   ]
  },
  {
   "cell_type": "markdown",
   "metadata": {},
   "source": [
    "## Find the Centroid of Each Cluster"
   ]
  },
  {
   "cell_type": "markdown",
   "metadata": {},
   "source": [
    "Use grouping to find the mean `northing` and `easting` values for each cluster identified above."
   ]
  },
  {
   "cell_type": "code",
   "execution_count": 8,
   "metadata": {},
   "outputs": [
    {
     "data": {
      "text/html": [
       "<div>\n",
       "<style scoped>\n",
       "    .dataframe tbody tr th:only-of-type {\n",
       "        vertical-align: middle;\n",
       "    }\n",
       "\n",
       "    .dataframe tbody tr th {\n",
       "        vertical-align: top;\n",
       "    }\n",
       "\n",
       "    .dataframe thead th {\n",
       "        text-align: right;\n",
       "    }\n",
       "</style>\n",
       "<table border=\"1\" class=\"dataframe\">\n",
       "  <thead>\n",
       "    <tr style=\"text-align: right;\">\n",
       "      <th></th>\n",
       "      <th>northing</th>\n",
       "      <th>easting</th>\n",
       "    </tr>\n",
       "    <tr>\n",
       "      <th>cluster</th>\n",
       "      <th></th>\n",
       "      <th></th>\n",
       "    </tr>\n",
       "  </thead>\n",
       "  <tbody>\n",
       "    <tr>\n",
       "      <th>10</th>\n",
       "      <td>334208.230907</td>\n",
       "      <td>435937.780795</td>\n",
       "    </tr>\n",
       "    <tr>\n",
       "      <th>6</th>\n",
       "      <td>434970.334950</td>\n",
       "      <td>406985.282976</td>\n",
       "    </tr>\n",
       "    <tr>\n",
       "      <th>11</th>\n",
       "      <td>300567.933051</td>\n",
       "      <td>391901.512758</td>\n",
       "    </tr>\n",
       "    <tr>\n",
       "      <th>9</th>\n",
       "      <td>417322.517251</td>\n",
       "      <td>409583.740733</td>\n",
       "    </tr>\n",
       "    <tr>\n",
       "      <th>4</th>\n",
       "      <td>391630.079963</td>\n",
       "      <td>431158.142881</td>\n",
       "    </tr>\n",
       "    <tr>\n",
       "      <th>-1</th>\n",
       "      <td>378085.504251</td>\n",
       "      <td>401877.070477</td>\n",
       "    </tr>\n",
       "    <tr>\n",
       "      <th>5</th>\n",
       "      <td>386471.292123</td>\n",
       "      <td>426559.091880</td>\n",
       "    </tr>\n",
       "    <tr>\n",
       "      <th>1</th>\n",
       "      <td>436475.467158</td>\n",
       "      <td>332980.455514</td>\n",
       "    </tr>\n",
       "    <tr>\n",
       "      <th>13</th>\n",
       "      <td>289854.874937</td>\n",
       "      <td>394518.294994</td>\n",
       "    </tr>\n",
       "    <tr>\n",
       "      <th>8</th>\n",
       "      <td>415807.314112</td>\n",
       "      <td>414765.634582</td>\n",
       "    </tr>\n",
       "    <tr>\n",
       "      <th>7</th>\n",
       "      <td>412772.647531</td>\n",
       "      <td>410069.665645</td>\n",
       "    </tr>\n",
       "    <tr>\n",
       "      <th>2</th>\n",
       "      <td>347062.237166</td>\n",
       "      <td>389386.821165</td>\n",
       "    </tr>\n",
       "    <tr>\n",
       "      <th>3</th>\n",
       "      <td>359668.638420</td>\n",
       "      <td>379638.020073</td>\n",
       "    </tr>\n",
       "    <tr>\n",
       "      <th>0</th>\n",
       "      <td>397661.052147</td>\n",
       "      <td>371410.022807</td>\n",
       "    </tr>\n",
       "    <tr>\n",
       "      <th>12</th>\n",
       "      <td>291539.411185</td>\n",
       "      <td>401640.667572</td>\n",
       "    </tr>\n",
       "  </tbody>\n",
       "</table>\n",
       "</div>"
      ],
      "text/plain": [
       "              northing        easting\n",
       "cluster                              \n",
       " 10      334208.230907  435937.780795\n",
       " 6       434970.334950  406985.282976\n",
       " 11      300567.933051  391901.512758\n",
       " 9       417322.517251  409583.740733\n",
       " 4       391630.079963  431158.142881\n",
       "-1       378085.504251  401877.070477\n",
       " 5       386471.292123  426559.091880\n",
       " 1       436475.467158  332980.455514\n",
       " 13      289854.874937  394518.294994\n",
       " 8       415807.314112  414765.634582\n",
       " 7       412772.647531  410069.665645\n",
       " 2       347062.237166  389386.821165\n",
       " 3       359668.638420  379638.020073\n",
       " 0       397661.052147  371410.022807\n",
       " 12      291539.411185  401640.667572"
      ]
     },
     "execution_count": 8,
     "metadata": {},
     "output_type": "execute_result"
    }
   ],
   "source": [
    "\n",
    "means = infected_df[['northing','easting','cluster']].groupby(['cluster']).mean()\n",
    "means"
   ]
  },
  {
   "cell_type": "markdown",
   "metadata": {},
   "source": [
    "Find the number of people in each cluster by counting the number of appearances of each cluster's label in the column produced by DBSCAN."
   ]
  },
  {
   "cell_type": "code",
   "execution_count": 9,
   "metadata": {},
   "outputs": [
    {
     "data": {
      "text/plain": [
       "cluster\n",
       " 9       21\n",
       " 3       25\n",
       " 6       27\n",
       " 7       39\n",
       " 5       43\n",
       " 10      64\n",
       " 4       66\n",
       " 11      68\n",
       " 1       68\n",
       " 13      71\n",
       " 12      72\n",
       " 8       94\n",
       " 2      403\n",
       "-1     8449\n",
       " 0     8638\n",
       "dtype: int32"
      ]
     },
     "execution_count": 9,
     "metadata": {},
     "output_type": "execute_result"
    }
   ],
   "source": [
    "infected_df[['northing','easting','cluster']].groupby(['cluster']).size().sort_values()"
   ]
  },
  {
   "cell_type": "code",
   "execution_count": 10,
   "metadata": {},
   "outputs": [
    {
     "data": {
      "text/html": [
       "<div>\n",
       "<style scoped>\n",
       "    .dataframe tbody tr th:only-of-type {\n",
       "        vertical-align: middle;\n",
       "    }\n",
       "\n",
       "    .dataframe tbody tr th {\n",
       "        vertical-align: top;\n",
       "    }\n",
       "\n",
       "    .dataframe thead th {\n",
       "        text-align: right;\n",
       "    }\n",
       "</style>\n",
       "<table border=\"1\" class=\"dataframe\">\n",
       "  <thead>\n",
       "    <tr style=\"text-align: right;\">\n",
       "      <th></th>\n",
       "      <th>lat</th>\n",
       "      <th>long</th>\n",
       "      <th>northing</th>\n",
       "      <th>easting</th>\n",
       "      <th>cluster</th>\n",
       "    </tr>\n",
       "  </thead>\n",
       "  <tbody>\n",
       "    <tr>\n",
       "      <th>count</th>\n",
       "      <td>8638.000000</td>\n",
       "      <td>8638.000000</td>\n",
       "      <td>8638.000000</td>\n",
       "      <td>8638.000000</td>\n",
       "      <td>8638.0</td>\n",
       "    </tr>\n",
       "    <tr>\n",
       "      <th>mean</th>\n",
       "      <td>53.474320</td>\n",
       "      <td>-2.430641</td>\n",
       "      <td>397661.052147</td>\n",
       "      <td>371410.022807</td>\n",
       "      <td>0.0</td>\n",
       "    </tr>\n",
       "    <tr>\n",
       "      <th>std</th>\n",
       "      <td>0.085916</td>\n",
       "      <td>0.280557</td>\n",
       "      <td>9516.337057</td>\n",
       "      <td>18646.588817</td>\n",
       "      <td>0.0</td>\n",
       "    </tr>\n",
       "    <tr>\n",
       "      <th>min</th>\n",
       "      <td>53.284049</td>\n",
       "      <td>-3.146397</td>\n",
       "      <td>376590.430563</td>\n",
       "      <td>323763.789533</td>\n",
       "      <td>0.0</td>\n",
       "    </tr>\n",
       "    <tr>\n",
       "      <th>25%</th>\n",
       "      <td>53.410954</td>\n",
       "      <td>-2.610117</td>\n",
       "      <td>390647.302845</td>\n",
       "      <td>359485.294925</td>\n",
       "      <td>0.0</td>\n",
       "    </tr>\n",
       "    <tr>\n",
       "      <th>50%</th>\n",
       "      <td>53.462359</td>\n",
       "      <td>-2.388124</td>\n",
       "      <td>396314.576664</td>\n",
       "      <td>374232.206315</td>\n",
       "      <td>0.0</td>\n",
       "    </tr>\n",
       "    <tr>\n",
       "      <th>75%</th>\n",
       "      <td>53.529783</td>\n",
       "      <td>-2.197166</td>\n",
       "      <td>403780.833957</td>\n",
       "      <td>386924.011946</td>\n",
       "      <td>0.0</td>\n",
       "    </tr>\n",
       "    <tr>\n",
       "      <th>max</th>\n",
       "      <td>53.756900</td>\n",
       "      <td>-1.963051</td>\n",
       "      <td>429099.512589</td>\n",
       "      <td>402448.070190</td>\n",
       "      <td>0.0</td>\n",
       "    </tr>\n",
       "  </tbody>\n",
       "</table>\n",
       "</div>"
      ],
      "text/plain": [
       "               lat         long       northing        easting  cluster\n",
       "count  8638.000000  8638.000000    8638.000000    8638.000000   8638.0\n",
       "mean     53.474320    -2.430641  397661.052147  371410.022807      0.0\n",
       "std       0.085916     0.280557    9516.337057   18646.588817      0.0\n",
       "min      53.284049    -3.146397  376590.430563  323763.789533      0.0\n",
       "25%      53.410954    -2.610117  390647.302845  359485.294925      0.0\n",
       "50%      53.462359    -2.388124  396314.576664  374232.206315      0.0\n",
       "75%      53.529783    -2.197166  403780.833957  386924.011946      0.0\n",
       "max      53.756900    -1.963051  429099.512589  402448.070190      0.0"
      ]
     },
     "execution_count": 10,
     "metadata": {},
     "output_type": "execute_result"
    }
   ],
   "source": [
    "cluster_id = infected_df[['northing','easting','cluster']].groupby(['cluster']).size().sort_values()[-1:].index[0]\n",
    "infected_df[infected_df['cluster'] == cluster_id].describe()"
   ]
  },
  {
   "cell_type": "markdown",
   "metadata": {},
   "source": [
    "## Take the Assessment"
   ]
  },
  {
   "cell_type": "markdown",
   "metadata": {},
   "source": [
    "After completing the work above, visit the *Launch Section* web page that you used to launch this Jupyter Lab. Scroll down below where you launched Jupyter Lab, and answer the question *Week 1 Assessment*. You can view your overall progress in the assessment by visiting the same *Launch Section* page and clicking on the link to the *Progress* page.\n",
    "\n",
    "There will be additional questions for you to answer after completing the remaining notebooks. On the *Progress* page, if you have successfully answered all the assessment questions, you can click on *Generate Certificate* to receive your certificate in the course."
   ]
  },
  {
   "cell_type": "markdown",
   "metadata": {},
   "source": [
    "![launch_task_page](./images/launch_task_page.png)"
   ]
  },
  {
   "cell_type": "markdown",
   "metadata": {},
   "source": [
    "<div align=\"center\"><h2>Please Restart the Kernel</h2></div>"
   ]
  },
  {
   "cell_type": "code",
   "execution_count": 11,
   "metadata": {},
   "outputs": [
    {
     "data": {
      "text/plain": [
       "{'status': 'ok', 'restart': True}"
      ]
     },
     "execution_count": 11,
     "metadata": {},
     "output_type": "execute_result"
    }
   ],
   "source": [
    "import IPython\n",
    "app = IPython.Application.instance()\n",
    "app.kernel.do_shutdown(True)"
   ]
  },
  {
   "cell_type": "code",
   "execution_count": null,
   "metadata": {},
   "outputs": [],
   "source": []
  }
 ],
 "metadata": {
  "kernelspec": {
   "display_name": "Python 3 (ipykernel)",
   "language": "python",
   "name": "python3"
  },
  "language_info": {
   "codemirror_mode": {
    "name": "ipython",
    "version": 3
   },
   "file_extension": ".py",
   "mimetype": "text/x-python",
   "name": "python",
   "nbconvert_exporter": "python",
   "pygments_lexer": "ipython3",
   "version": "3.8.12"
  }
 },
 "nbformat": 4,
 "nbformat_minor": 4
}
